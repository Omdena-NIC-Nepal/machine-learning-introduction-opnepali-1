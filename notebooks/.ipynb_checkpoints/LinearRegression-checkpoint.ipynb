{
 "cells": [
  {
   "cell_type": "markdown",
   "id": "0dcf714c-0d6c-4095-8e53-7c5e676e05ec",
   "metadata": {},
   "source": [
    "# Machine Learning Beginner Project: Linear Regression\n",
    "\n",
    "## Project Title: Predicting House Prices Using Linear Regression\n",
    "#### Objective: To introduce students to supervised learning, focusing on linear regression, by guiding them through a project that predicts house prices based on a variety of features.\n",
    "\n",
    "#### Dataset: We'll use the \"Boston Housing Dataset\" from the UCI Machine Learning Repository. This dataset contains information about housing in Boston, including features such as the number of rooms, age of the house, and crime rate, along with the target variable, which is the median value of owner-occupied homes."
   ]
  },
  {
   "cell_type": "markdown",
   "id": "b5176b10-f046-4d9c-a0c0-139818199ab0",
   "metadata": {},
   "source": [
    "### Data Exploration and Preprocessing\n",
    "\n",
    "Task 1: Data Exploration\n",
    "Notebook: notebooks/EDA.ipynb Steps:\n",
    "\n",
    "Load the dataset.\n",
    "Explore the data structure, types, and summary statistics.\n",
    "Visualize relationships between features and the target variable.\n",
    "Identify missing values and outliers.\n",
    "\n",
    "Task 2: Data Preprocessing\n",
    "Notebook: notebooks/Data_Preprocessing.ipynb Steps:\n",
    "\n",
    "Handle missing values and outliers.\n",
    "Encode categorical variables.\n",
    "Normalize/standardize numerical features.\n",
    "Split the data into training and testing sets.\n",
    "Script: scripts/data_preprocessing.py"
   ]
  },
  {
   "cell_type": "markdown",
   "id": "394e28d4-e8b3-40b3-aae6-d51bde9704e9",
   "metadata": {},
   "source": [
    "### Model Building and Training\n",
    "Task 3: Model Training\n",
    "Notebook: notebooks/Model_Training.ipynb Steps:\n",
    "\n",
    "Choose appropriate features for the model.\n",
    "\n",
    "Train a linear regression model.\n",
    "\n",
    "Perform hyperparameter tuning (if applicable).\n",
    "\n",
    "Script: scripts/train_model.py"
   ]
  },
  {
   "cell_type": "markdown",
   "id": "530b027f-5d1a-4954-b54c-81710f2d7305",
   "metadata": {},
   "source": [
    "### Model Evaluation\n",
    "Task 4: Model Evaluation\n",
    "Notebook: notebooks/Model_Evaluation.ipynb Steps:\n",
    "\n",
    "Evaluate the model using metrics such as Mean Squared Error (MSE), R-squared.\n",
    "Plot residuals to check the assumptions of linear regression.\n",
    "Compare model performance with different feature sets or preprocessing steps.\n",
    "Script: scripts/evaluate_model.py"
   ]
  },
  {
   "cell_type": "markdown",
   "id": "4ddb96c1-cdfc-4e95-81b6-11cd3cd9e17b",
   "metadata": {},
   "source": [
    "### Feature Engineering and Improvement\n",
    "Task 5: Feature Engineering\n",
    "Notebook: notebooks/Feature_Engineering.ipynb Steps:\n",
    "\n",
    "Create new features that might improve model performance.\n",
    "Test different feature combinations.\n",
    "Evaluate the impact of new features on model performance."
   ]
  },
  {
   "cell_type": "code",
   "execution_count": 1,
   "id": "b51ccc6f-6731-4792-b013-ff217bed2fb4",
   "metadata": {},
   "outputs": [
    {
     "name": "stdout",
     "output_type": "stream",
     "text": [
      "Requirement already satisfied: pandas in c:\\users\\lenovo\\anaconda3\\lib\\site-packages (2.2.2)\n",
      "Requirement already satisfied: numpy in c:\\users\\lenovo\\anaconda3\\lib\\site-packages (1.26.4)\n",
      "Requirement already satisfied: matplotlib in c:\\users\\lenovo\\anaconda3\\lib\\site-packages (3.9.2)\n",
      "Requirement already satisfied: seaborn in c:\\users\\lenovo\\anaconda3\\lib\\site-packages (0.13.2)\n",
      "Requirement already satisfied: scikit-learn in c:\\users\\lenovo\\anaconda3\\lib\\site-packages (1.5.1)\n",
      "Requirement already satisfied: statsmodels in c:\\users\\lenovo\\anaconda3\\lib\\site-packages (0.14.2)\n",
      "Requirement already satisfied: python-dateutil>=2.8.2 in c:\\users\\lenovo\\anaconda3\\lib\\site-packages (from pandas) (2.9.0.post0)\n",
      "Requirement already satisfied: pytz>=2020.1 in c:\\users\\lenovo\\anaconda3\\lib\\site-packages (from pandas) (2024.1)\n",
      "Requirement already satisfied: tzdata>=2022.7 in c:\\users\\lenovo\\anaconda3\\lib\\site-packages (from pandas) (2023.3)\n",
      "Requirement already satisfied: contourpy>=1.0.1 in c:\\users\\lenovo\\anaconda3\\lib\\site-packages (from matplotlib) (1.2.0)\n",
      "Requirement already satisfied: cycler>=0.10 in c:\\users\\lenovo\\anaconda3\\lib\\site-packages (from matplotlib) (0.11.0)\n",
      "Requirement already satisfied: fonttools>=4.22.0 in c:\\users\\lenovo\\anaconda3\\lib\\site-packages (from matplotlib) (4.51.0)\n",
      "Requirement already satisfied: kiwisolver>=1.3.1 in c:\\users\\lenovo\\anaconda3\\lib\\site-packages (from matplotlib) (1.4.4)\n",
      "Requirement already satisfied: packaging>=20.0 in c:\\users\\lenovo\\anaconda3\\lib\\site-packages (from matplotlib) (24.1)\n",
      "Requirement already satisfied: pillow>=8 in c:\\users\\lenovo\\anaconda3\\lib\\site-packages (from matplotlib) (10.4.0)\n",
      "Requirement already satisfied: pyparsing>=2.3.1 in c:\\users\\lenovo\\anaconda3\\lib\\site-packages (from matplotlib) (3.1.2)\n",
      "Requirement already satisfied: scipy>=1.6.0 in c:\\users\\lenovo\\anaconda3\\lib\\site-packages (from scikit-learn) (1.13.1)\n",
      "Requirement already satisfied: joblib>=1.2.0 in c:\\users\\lenovo\\anaconda3\\lib\\site-packages (from scikit-learn) (1.4.2)\n",
      "Requirement already satisfied: threadpoolctl>=3.1.0 in c:\\users\\lenovo\\anaconda3\\lib\\site-packages (from scikit-learn) (3.5.0)\n",
      "Requirement already satisfied: patsy>=0.5.6 in c:\\users\\lenovo\\anaconda3\\lib\\site-packages (from statsmodels) (0.5.6)\n",
      "Requirement already satisfied: six in c:\\users\\lenovo\\anaconda3\\lib\\site-packages (from patsy>=0.5.6->statsmodels) (1.16.0)\n"
     ]
    }
   ],
   "source": [
    "#Install Packages\n",
    "!pip install pandas numpy matplotlib seaborn scikit-learn statsmodels"
   ]
  },
  {
   "cell_type": "code",
   "execution_count": 3,
   "id": "23afa304-a033-4ff1-9851-9e6d77c22908",
   "metadata": {},
   "outputs": [],
   "source": [
    "# Step 1: Import Libraries\n",
    "\n",
    "import pandas as pd\n",
    "import numpy as np\n",
    "import matplotlib.pyplot as plt\n",
    "import seaborn as sns\n",
    "from sklearn.model_selection import train_test_split\n",
    "from sklearn.linear_model import LinearRegression\n",
    "from sklearn.metrics import mean_absolute_error, mean_squared_error, r2_score\n",
    "from sklearn.preprocessing import StandardScaler\n",
    "import statsmodels.api as sm"
   ]
  },
  {
   "cell_type": "code",
   "execution_count": 9,
   "id": "00b55d85-08e8-4477-b9e7-101980bb5a4f",
   "metadata": {},
   "outputs": [],
   "source": [
    "# Step 2: Load and explore the data\n",
    "columns = ['CRIM', 'ZN', 'INDUS', 'CHAS', 'NOX', 'RM', 'AGE', 'DIS', 'RAD', 'TAX', 'PTRATIO', 'B', 'LSTAT', 'MEDV']\n",
    "data = pd.read_csv('data/BostonHousing.csv', delimiter=r\"\\s+\", names=columns)\n",
    "\n",
    "# Handle missing values (none in this dataset, but included for completeness)\n",
    "data = data.dropna()\n",
    "\n",
    "# Explore the data\n",
    "print(data.head())\n",
    "print(data.info())\n",
    "\n",
    "# Visualize the data\n",
    "sns.heatmap(data.corr(), annot=True, cmap='coolwarm')"
   ]
  },
  {
   "cell_type": "code",
   "execution_count": null,
   "id": "946468a3-4b3f-49ce-b5f8-de23dd3f523b",
   "metadata": {},
   "outputs": [],
   "source": []
  },
  {
   "cell_type": "code",
   "execution_count": null,
   "id": "558f814e-2e65-453e-887e-621193cb5e5b",
   "metadata": {},
   "outputs": [],
   "source": [
    "\n",
    "\n",
    "# Step 3: Split the data. Separate features and target variable 'X' contains all features except 'medv', which is the target variable\n",
    "X = data.drop('MEDV', axis=1)  # Features\n",
    "y = data['MEDV']               # Target variable. 'y' contains the target variable\n",
    "\n",
    "X_train, X_test, y_train, y_test = train_test_split(X, y, test_size=0.2, random_state=42)\n",
    "\n",
    "# Step 4: Scale the features (optional but recommended for some models)\n",
    "scaler = StandardScaler()\n",
    "X_train = scaler.fit_transform(X_train)\n",
    "X_test = scaler.transform(X_test)\n",
    "\n",
    "# Step 5: Train the model\n",
    "model = LinearRegression()\n",
    "model.fit(X_train, y_train)\n",
    "\n",
    "# Step 6: Make predictions\n",
    "y_pred = model.predict(X_test)\n",
    "\n",
    "# Step 7: Evaluate the model\n",
    "mae = mean_absolute_error(y_test, y_pred)\n",
    "mse = mean_squared_error(y_test, y_pred)\n",
    "r2 = r2_score(y_test, y_pred)\n",
    "\n",
    "print(f'Mean Absolute Error: {mae}')\n",
    "print(f'Mean Squared Error: {mse}')\n",
    "print(f'R-squared: {r2}')\n",
    "\n",
    "# Plotting actual vs predicted values\n",
    "plt.scatter(y_test, y_pred)\n",
    "plt.xlabel('Actual Prices')\n",
    "plt.ylabel('Predicted Prices')\n",
    "plt.title('Actual vs Predicted House Prices')\n",
    "plt.show()\n",
    "\n",
    "\n",
    "\n",
    "=======================\n",
    "\n",
    "\n",
    "How to Check and Handle Multicollinearity:\n",
    "Here’s how you can check for multicollinearity by calculating the VIF and handling it:\n",
    "\n",
    "python - code\n",
    "from statsmodels.stats.outliers_influence import variance_inflation_factor\n",
    "from statsmodels.tools.tools import add_constant\n",
    "\n",
    "# Add constant to features to calculate VIF\n",
    "X_train_const = add_constant(X_train)\n",
    "\n",
    "# Calculate VIF for each feature\n",
    "vif_data = pd.DataFrame()\n",
    "vif_data[\"Feature\"] = X.columns\n",
    "vif_data[\"VIF\"] = [variance_inflation_factor(X_train_const.values, i) for i in range(X_train_const.shape[1])]\n",
    "\n",
    "print(vif_data)"
   ]
  }
 ],
 "metadata": {
  "kernelspec": {
   "display_name": "Python [conda env:base] *",
   "language": "python",
   "name": "conda-base-py"
  },
  "language_info": {
   "codemirror_mode": {
    "name": "ipython",
    "version": 3
   },
   "file_extension": ".py",
   "mimetype": "text/x-python",
   "name": "python",
   "nbconvert_exporter": "python",
   "pygments_lexer": "ipython3",
   "version": "3.12.7"
  }
 },
 "nbformat": 4,
 "nbformat_minor": 5
}
