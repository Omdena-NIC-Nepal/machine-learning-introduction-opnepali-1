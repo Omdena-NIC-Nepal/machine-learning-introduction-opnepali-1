{
 "cells": [
  {
   "cell_type": "markdown",
   "id": "c3bfead5-536e-4e03-b470-f913d30de3ed",
   "metadata": {},
   "source": [
    "# Data Pre-Processing"
   ]
  },
  {
   "cell_type": "markdown",
   "id": "7d12c8c3-55ca-4e29-8bfd-36c9ce943be4",
   "metadata": {},
   "source": [
    "#### Import Libraries"
   ]
  },
  {
   "cell_type": "code",
   "execution_count": 102,
   "id": "ff23b486-d515-41fb-bf6c-30ce4ab984ee",
   "metadata": {},
   "outputs": [],
   "source": [
    "import pandas as pd\n",
    "from sklearn.model_selection import train_test_split\n",
    "from sklearn.preprocessing import StandardScaler"
   ]
  },
  {
   "cell_type": "markdown",
   "id": "ced88e95-3f7e-4b76-b1b6-f2fb67a80692",
   "metadata": {},
   "source": [
    "#### Load the data"
   ]
  },
  {
   "cell_type": "code",
   "execution_count": 15,
   "id": "b42c5e48-208b-4f61-917d-e2e7591dca89",
   "metadata": {},
   "outputs": [],
   "source": [
    "data_frame = pd.read_csv('../data/BostonHousing.csv')"
   ]
  },
  {
   "cell_type": "markdown",
   "id": "f51d0dda-2e8c-435d-a37d-d0cdb5567d62",
   "metadata": {},
   "source": [
    "#### Handle missing values (none in this dataset, but included for completeness)"
   ]
  },
  {
   "cell_type": "code",
   "execution_count": 17,
   "id": "935895c5-d086-403e-86c1-936c17c1e384",
   "metadata": {},
   "outputs": [],
   "source": [
    "data_frame = data_frame.dropna()"
   ]
  },
  {
   "cell_type": "markdown",
   "id": "b7f28c4f-f249-43be-b619-55db27717fd1",
   "metadata": {},
   "source": [
    "#### Separate features and target variable 'X' contains all features except 'medv', which is the target variable"
   ]
  },
  {
   "cell_type": "code",
   "execution_count": 19,
   "id": "4d0c2503-111c-42a7-8525-fad94f2fcb01",
   "metadata": {},
   "outputs": [],
   "source": [
    "X = data_frame.drop('medv', axis=1)\n",
    "y = data_frame['medv']  # 'y' contains the target variable 'medv'"
   ]
  },
  {
   "cell_type": "markdown",
   "id": "95587bc5-a93e-41e1-9176-d3ddc5c4f6a8",
   "metadata": {},
   "source": [
    "#### Normalize features using StandardScaler 'X_scaled' is the normalized version of 'X' with mean 0 and standard deviation 1"
   ]
  },
  {
   "cell_type": "code",
   "execution_count": 52,
   "id": "ccb04c33-569d-49ea-968e-e607b167cd6b",
   "metadata": {},
   "outputs": [],
   "source": [
    "scaler = StandardScaler()\n",
    "X_scaled = pd.DataFrame(scaler.fit_transform(X), columns=X.columns)\n",
    "\n",
    "\n",
    "X_train = scaler.fit_transform(X_train)\n",
    "X_test = scaler.transform(X_test)"
   ]
  },
  {
   "cell_type": "markdown",
   "id": "9375716d-557f-4f81-84ee-d849af0b3a77",
   "metadata": {},
   "source": [
    "#### Split the dataset into training and testing sets 80% of the data is used for training, and 20% is used for testing and save the preprocessed data to CSV files for future use Training features and target"
   ]
  },
  {
   "cell_type": "code",
   "execution_count": 54,
   "id": "883ac197-17c5-43b7-a812-50624ce222e1",
   "metadata": {},
   "outputs": [],
   "source": [
    "X_train, X_test, y_train, y_test = train_test_split(X_scaled, y, test_size=0.2, random_state=42)\n",
    "X_train.to_csv('../data/X_train.csv', index=False)\n",
    "y_train.to_csv('../data/y_train.csv', index=False)\n",
    "\n",
    "X_test.to_csv('../data/X_test.csv', index=False)\n",
    "y_test.to_csv('../data/y_test.csv', index=False)"
   ]
  },
  {
   "cell_type": "markdown",
   "id": "0095156e-fdf7-4023-87c4-b9acb8423897",
   "metadata": {},
   "source": [
    "#### Display the shapes of the training and testing datasets"
   ]
  },
  {
   "cell_type": "code",
   "execution_count": 94,
   "id": "db236518-a9d5-4808-b9be-d71bba94e907",
   "metadata": {},
   "outputs": [
    {
     "name": "stdout",
     "output_type": "stream",
     "text": [
      "Training set shape: X_train: (404, 13), y_train: (404,)\n",
      "Testing set shape: X_test: (102, 13), y_test: (102,)\n"
     ]
    }
   ],
   "source": [
    "print(f\"Training set shape: X_train: {X_train.shape}, y_train: {y_train.shape}\")\n",
    "print(f\"Testing set shape: X_test: {X_test.shape}, y_test: {y_test.shape}\")"
   ]
  },
  {
   "cell_type": "code",
   "execution_count": null,
   "id": "d364e355-785b-43ae-8068-8b511533e4c0",
   "metadata": {},
   "outputs": [],
   "source": []
  }
 ],
 "metadata": {
  "kernelspec": {
   "display_name": "Python [conda env:base] *",
   "language": "python",
   "name": "conda-base-py"
  },
  "language_info": {
   "codemirror_mode": {
    "name": "ipython",
    "version": 3
   },
   "file_extension": ".py",
   "mimetype": "text/x-python",
   "name": "python",
   "nbconvert_exporter": "python",
   "pygments_lexer": "ipython3",
   "version": "3.12.7"
  }
 },
 "nbformat": 4,
 "nbformat_minor": 5
}
